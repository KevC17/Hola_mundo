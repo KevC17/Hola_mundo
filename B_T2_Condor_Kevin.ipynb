{
  "nbformat": 4,
  "nbformat_minor": 0,
  "metadata": {
    "colab": {
      "provenance": []
    },
    "kernelspec": {
      "name": "python3",
      "display_name": "Python 3"
    },
    "language_info": {
      "name": "python"
    }
  },
  "cells": [
    {
      "cell_type": "markdown",
      "source": [
        "Trabajo 2 - Tic"
      ],
      "metadata": {
        "id": "dpV0GaQcf6Nj"
      }
    },
    {
      "cell_type": "markdown",
      "source": [
        "1. Escriba un programa que imprima hola mundo"
      ],
      "metadata": {
        "id": "NuADYyRRgkwh"
      }
    },
    {
      "cell_type": "code",
      "execution_count": null,
      "metadata": {
        "colab": {
          "base_uri": "https://localhost:8080/"
        },
        "id": "VLQ1kZRRfvBg",
        "outputId": "f131b50a-b439-4d1d-9afa-0e47c00097fe"
      },
      "outputs": [
        {
          "output_type": "stream",
          "name": "stdout",
          "text": [
            "hola mundo\n"
          ]
        }
      ],
      "source": [
        "#Imprime por consola \"Hola mundo\"\n",
        "print(\"Hola mundo\")"
      ]
    },
    {
      "cell_type": "markdown",
      "source": [
        "2. Escriba un programa que pida 2 números al usuario y los sume"
      ],
      "metadata": {
        "id": "uLJ24sI1gpe5"
      }
    },
    {
      "cell_type": "code",
      "source": [
        "#Pide el ingreso de un numero\n",
        "num1 = int(input(\"Ingrese el primer numero\"))\n",
        "\n",
        "#Pide el ingreso de un seguno numero\n",
        "num2 = int(input(\"Ingrese el segundo numero\"))\n",
        "\n",
        "#imprime la suma de num1 y num2\n",
        "print(\"La suma es: \", num1+num2)"
      ],
      "metadata": {
        "id": "-h-l-8fVoxzJ"
      },
      "execution_count": null,
      "outputs": []
    },
    {
      "cell_type": "markdown",
      "source": [
        "3. Determine si el número es par o impa"
      ],
      "metadata": {
        "id": "9v-LupUvhR_F"
      }
    },
    {
      "cell_type": "code",
      "source": [
        "#Pide que ingrese por teclado un numero al usuario\n",
        "num = int(input(\"Ingrese un numero: \"))\n",
        "\n",
        "#Hace la comprobacion si es par o impar comprando si el módulo es cero, es par, caso contrario, es impar\n",
        "if  num%2 == 0:\n",
        "    print(\"El numero es par\")\n",
        "else:\n",
        "    print(\"El numero es impar\")"
      ],
      "metadata": {
        "id": "1Dxq2k_7o0ej"
      },
      "execution_count": null,
      "outputs": []
    },
    {
      "cell_type": "markdown",
      "source": [
        "4. Calculadora simple"
      ],
      "metadata": {
        "id": "l5ujRIk_o_PE"
      }
    },
    {
      "cell_type": "code",
      "source": [
        "#Pide al usuario que ingrese un número\n",
        "num1 = int(input(\"Ingrese un numero: \"))\n",
        "#Pide al usuario que ingrese otro número\n",
        "num2 = int(input(\"Ingrese otro numero: \"))\n",
        "#Pide el ingreso de la opción que se desea, ya sea suma, resta, multiplicacion o división\n",
        "opcion = input(\"Ingrese la operacion que desea realizar: \")\n",
        "\n",
        "#Compara si la opcion es suma, resta, multiplicacion o division\n",
        "if opcion == \"suma\":\n",
        "    #Imprime el resultado de la suma\n",
        "    print(\"La suma es: \", num1+num2)\n",
        "elif opcion == \"resta\":\n",
        "    #Imprime el resultado de la resta\n",
        "    print(\"La resta es: \", num1-num2)\n",
        "elif opcion == \"multiplicacion\":\n",
        "    #Imprime el resultado de la multiplicación\n",
        "    print(\"La multiplicacion es: \", num1*num2)\n",
        "elif opcion == \"division\":\n",
        "    #Imprime el resultado de la división\n",
        "    print(\"La division es: \", num1/num2)\n",
        "else:\n",
        "    #En el caso que no opción no sea válida imprimirá \"Opcion no válida\"\n",
        "    print(\"Opcion no valida\")"
      ],
      "metadata": {
        "id": "vSattSsvpDaA"
      },
      "execution_count": null,
      "outputs": []
    },
    {
      "cell_type": "markdown",
      "source": [
        "5. Número mayor"
      ],
      "metadata": {
        "id": "mNdzkKfMpLLJ"
      }
    },
    {
      "cell_type": "code",
      "source": [
        "#Pide al usuario que ingrese el primer número\n",
        "num1 = int(input(\"Ingrese el primer numero: \"))\n",
        "#Pide al usuario que ingrese el segundo número\n",
        "num2 = int(input(\"Ingrese el segundo numero: \"))\n",
        "#Pide al usuario que ingrese el tercer número\n",
        "num3 = int(input(\"Ingrese el tercer numero: \"))\n",
        "\n",
        "#Se introducen los números a una lista para ordenarlos\n",
        "lista = [num1,num2,num3]\n",
        "lista.sort()\n",
        "#Imprime el número mayor de la lista\n",
        "print(\"El numero mayor es: \", lista[len(lista)-1])"
      ],
      "metadata": {
        "id": "0Gvs4wq5pPnb"
      },
      "execution_count": null,
      "outputs": []
    },
    {
      "cell_type": "markdown",
      "source": [
        "6. Área de un círculo"
      ],
      "metadata": {
        "id": "KdIGpsSCpYdM"
      }
    },
    {
      "cell_type": "code",
      "source": [
        "#Area de un circulo\n",
        "#Se importa la función math para poder usar la función pi\n",
        "import  math\n",
        "#Pide el ingreso del radio\n",
        "radio = int(input(\"Ingrese el radio del circulo: \"))\n",
        "#Imprime el área del circulo\n",
        "print(\"El area del circulo es: \", math.pi*(radio**2))"
      ],
      "metadata": {
        "id": "lfM_3f6Rpdf8"
      },
      "execution_count": null,
      "outputs": []
    },
    {
      "cell_type": "markdown",
      "source": [
        "7. Conversión de grados Celsius a Farenheit"
      ],
      "metadata": {
        "id": "9v25cHV1pkWl"
      }
    },
    {
      "cell_type": "code",
      "source": [
        "#Pide el ingreso de los grados a transformar\n",
        "grados = int(input(\"Ingrese los grados celsius: \"))\n",
        "#Imprime la transformacion de Grados Celsius a Grados Farenheit\n",
        "print(\"La conversion en grados Farenheint es: \", (grados*9/5)+32)"
      ],
      "metadata": {
        "id": "dEQKKVG1psoW"
      },
      "execution_count": null,
      "outputs": []
    },
    {
      "cell_type": "markdown",
      "source": [
        "8. Cuenta atras."
      ],
      "metadata": {
        "id": "EegW8H7LAr7z"
      }
    },
    {
      "cell_type": "code",
      "source": [
        "#Se crea una lista con numeros del 10 al 0\n",
        "lista = [10,9,8,7,6,5,4,3,2,1,0]\n",
        "#Mediante un bucle for imprime uno por uno los elementos de la lista\n",
        "print(\"Contador\")\n",
        "for var in lista:\n",
        "  print(var, \"...\")"
      ],
      "metadata": {
        "id": "MwsvTuEXCUWq",
        "outputId": "b9b3ba00-fedb-42bd-bfa7-a90ab59e25d7",
        "colab": {
          "base_uri": "https://localhost:8080/"
        }
      },
      "execution_count": null,
      "outputs": [
        {
          "output_type": "stream",
          "name": "stdout",
          "text": [
            "Contador\n",
            "10 ...\n",
            "9 ...\n",
            "8 ...\n",
            "7 ...\n",
            "6 ...\n",
            "5 ...\n",
            "4 ...\n",
            "3 ...\n",
            "2 ...\n",
            "1 ...\n",
            "0 ...\n"
          ]
        }
      ]
    },
    {
      "cell_type": "markdown",
      "source": [
        "9. Tabla de multiplicar"
      ],
      "metadata": {
        "id": "unFi9lMtCvQc"
      }
    },
    {
      "cell_type": "code",
      "source": [
        "#Pide que ingrese el número de la tabla que se va a visualizar\n",
        "tab = int(input(\"Ingrese el número de la tabla que desea: \"))\n",
        "\n",
        "print(\"La tabla del \", tab)\n",
        "#Mediante un bucle se realiza la impresion de la tabla requerida hasta el 12\n",
        "for var in range(1,13):\n",
        "  print(tab,\" x \", var, \" = \", tab*var)"
      ],
      "metadata": {
        "id": "Mj4SB3RkC2Tz",
        "outputId": "127f591a-93ce-48e0-fbf6-fd82de5a614d",
        "colab": {
          "base_uri": "https://localhost:8080/"
        }
      },
      "execution_count": null,
      "outputs": [
        {
          "output_type": "stream",
          "name": "stdout",
          "text": [
            "Ingrese el número de la tabla que desea: 5\n",
            "La tabla del  5\n",
            "5  x  1  =  5\n",
            "5  x  2  =  10\n",
            "5  x  3  =  15\n",
            "5  x  4  =  20\n",
            "5  x  5  =  25\n",
            "5  x  6  =  30\n",
            "5  x  7  =  35\n",
            "5  x  8  =  40\n",
            "5  x  9  =  45\n",
            "5  x  10  =  50\n",
            "5  x  11  =  55\n",
            "5  x  12  =  60\n"
          ]
        }
      ]
    },
    {
      "cell_type": "markdown",
      "source": [
        "10. Números primos"
      ],
      "metadata": {
        "id": "neGOW1ftDjjj"
      }
    },
    {
      "cell_type": "code",
      "source": [
        "#Pide que ingrese un número\n",
        "num = int(input(\"Ingrese un número: \"))\n",
        "#Funcion para comprobar si un número es primo o no\n",
        "def es_primo(n):\n",
        "  #Mediante un bucle compara si el número es divisible para si mismo y 1 devolviendo True, en el caso que sea divisible para otros números devuelve False\n",
        "  for i in range(2,n):\n",
        "    if (n%i) == 0:\n",
        "      return False\n",
        "  return True\n",
        "#Compara el retorno de la funcion\n",
        "if es_primo(num):\n",
        "  #En el caso de ser True, imprime que el número es par\n",
        "  print(\"El número es primo\")\n",
        "else:\n",
        "  #En el caso de ser False, imprime que el número es impar\n",
        "  print(\"El número no es primo\")"
      ],
      "metadata": {
        "id": "An1tDzD_DniK",
        "outputId": "b78c88a6-ea05-46d2-d873-34322f4aecd3",
        "colab": {
          "base_uri": "https://localhost:8080/"
        }
      },
      "execution_count": 1,
      "outputs": [
        {
          "output_type": "stream",
          "name": "stdout",
          "text": [
            "Ingrese un número: 15\n",
            "El número no es primo\n"
          ]
        }
      ]
    },
    {
      "cell_type": "markdown",
      "source": [
        "11. Sumar números, hasta un límite"
      ],
      "metadata": {
        "id": "RmZSPbltEiDb"
      }
    },
    {
      "cell_type": "code",
      "source": [
        "#Pide que ingrese un número\n",
        "num = int(input(\"Ingrese un número: \"))\n",
        "#Inicializamos la variable suma con cero\n",
        "suma = 0\n",
        "#Mediante un bucle realizamos una suma de los numeros del 1 hasta el numero ingresado por el usuario\n",
        "for var in range(1,num+1):\n",
        "  suma += var\n",
        "#Imprime cuanto es la suma en total\n",
        "print(\"La suma es: \",suma)"
      ],
      "metadata": {
        "id": "4-q7Pp_jEmqb",
        "outputId": "ea426566-c582-4c78-cb49-723fee1a6031",
        "colab": {
          "base_uri": "https://localhost:8080/"
        }
      },
      "execution_count": null,
      "outputs": [
        {
          "output_type": "stream",
          "name": "stdout",
          "text": [
            "Ingrese un número: 5\n",
            "La suma es:  15\n"
          ]
        }
      ]
    },
    {
      "cell_type": "markdown",
      "source": [
        "12. Invertir una cadena"
      ],
      "metadata": {
        "id": "FNtgWEjcFDwP"
      }
    },
    {
      "cell_type": "code",
      "source": [
        "#Pide que ingrese un texto\n",
        "texto = input(\"Ingrese un texto: \")\n",
        "#Imprime el texto ingresado a la inversa\n",
        "print(\"El texto inverso es: \", texto[::-1])"
      ],
      "metadata": {
        "id": "4uqHo7lUFHWK",
        "outputId": "2a800822-7368-419e-a6fe-fba23ac3d44b",
        "colab": {
          "base_uri": "https://localhost:8080/"
        }
      },
      "execution_count": null,
      "outputs": [
        {
          "output_type": "stream",
          "name": "stdout",
          "text": [
            "Ingrese un texto: hola\n",
            "El texto inverso es: \n",
            "aloh\n"
          ]
        }
      ]
    },
    {
      "cell_type": "markdown",
      "source": [
        "13. Contar vocales"
      ],
      "metadata": {
        "id": "z00RcVSeFnZH"
      }
    },
    {
      "cell_type": "code",
      "source": [
        "#Pide que ingrese un texto\n",
        "texto = input(\"Ingrese un texto: \")\n",
        "#Inicializamos la variable contador con 0\n",
        "contador = 0\n",
        "#Mediante un bucle for recorremos el texto ingresado\n",
        "for let in texto:\n",
        "  #Compara si la variable let es igual a alguna vocal, en el caso que sea igual suma una unidad al contador, caso contrario continua el programa\n",
        "  if let == \"a\" or let == \"e\" or let == \"i\" or let == \"o\" or let == \"u\":\n",
        "    contador += 1\n",
        "#Imprime el total de vocales halladas\n",
        "print(\"El total de vocales es: \", contador)"
      ],
      "metadata": {
        "id": "C72j7JtfFqrv",
        "outputId": "3f8d7725-a077-43d9-bf8f-6d5a0091a98b",
        "colab": {
          "base_uri": "https://localhost:8080/"
        }
      },
      "execution_count": null,
      "outputs": [
        {
          "output_type": "stream",
          "name": "stdout",
          "text": [
            "Ingrese un texto: hola mundo\n",
            "El total de vocales es:  4\n"
          ]
        }
      ]
    },
    {
      "cell_type": "markdown",
      "source": [
        "14. Palindromo"
      ],
      "metadata": {
        "id": "9eYNfOY_GM1q"
      }
    },
    {
      "cell_type": "code",
      "source": [
        "#Pide que ingrese un texto\n",
        "texto = input(\"Ingrese un texto: \")\n",
        "#Se invierte el texto ingresado\n",
        "inversa = texto[::-1]\n",
        "#Se compara si el texto ingresado el igual a la inversa\n",
        "if texto == inversa:\n",
        "    #Si es True, imprime que es un palindromo\n",
        "    print(\"Es un palindromo\")\n",
        "else:\n",
        "    #Si es False, imprime que no es un palindromo\n",
        "    print(\"No es un palindromo\")"
      ],
      "metadata": {
        "id": "ZuGExVBgGQDr",
        "outputId": "781641eb-56a1-48bf-cf39-b7d4be344757",
        "colab": {
          "base_uri": "https://localhost:8080/"
        }
      },
      "execution_count": null,
      "outputs": [
        {
          "output_type": "stream",
          "name": "stdout",
          "text": [
            "Ingrese un texto: juan\n",
            "No es un palindromo\n"
          ]
        }
      ]
    },
    {
      "cell_type": "markdown",
      "source": [
        "15. Factorial de un número"
      ],
      "metadata": {
        "id": "5wa1Pe9-HF-O"
      }
    },
    {
      "cell_type": "code",
      "source": [
        "#Pide el ingreso de un número\n",
        "num = int(input(\"Ingrese un número: \"))\n",
        "#Iniciamos la variable factorial en 1 y la variable i en 1\n",
        "factorial = 1\n",
        "i = 1\n",
        "#En un ciclo while realizamos la operacion donde i irá aumentando y la multiplicacion se irá guardando en factorial\n",
        "while (i <= num):\n",
        "    factorial *= i\n",
        "    i += 1\n",
        "#Imprime el resultado del factorial\n",
        "print (\"El factorial de \", num, \" es \", factorial)"
      ],
      "metadata": {
        "id": "WQa-WwnXHJmP",
        "outputId": "cfffc317-b61f-40f2-8f70-09609b34114a",
        "colab": {
          "base_uri": "https://localhost:8080/"
        }
      },
      "execution_count": null,
      "outputs": [
        {
          "output_type": "stream",
          "name": "stdout",
          "text": [
            "Ingrese un número: 4\n",
            "El factorial de  4  es  24\n"
          ]
        }
      ]
    },
    {
      "cell_type": "markdown",
      "source": [
        "16. Generar números aleatorios"
      ],
      "metadata": {
        "id": "usioLvXjHmJg"
      }
    },
    {
      "cell_type": "code",
      "source": [
        "#Importamos la libreria random para generar numeros aleatorios\n",
        "import random\n",
        "#Imprimimos 5 numeros aleatorios\n",
        "print(random.randint(1, 100))\n",
        "print(random.randint(1, 100))\n",
        "print(random.randint(1, 100))\n",
        "print(random.randint(1, 100))\n",
        "print(random.randint(1, 100))"
      ],
      "metadata": {
        "id": "M2Zj8v3IHp-h",
        "outputId": "cc8ee132-33c1-492d-8b12-6407b1f17f67",
        "colab": {
          "base_uri": "https://localhost:8080/"
        }
      },
      "execution_count": null,
      "outputs": [
        {
          "output_type": "stream",
          "name": "stdout",
          "text": [
            "35\n",
            "14\n",
            "100\n",
            "8\n",
            "45\n"
          ]
        }
      ]
    },
    {
      "cell_type": "markdown",
      "source": [
        "17. Calcular el indice de masa corporal"
      ],
      "metadata": {
        "id": "wcqY31uQH7vy"
      }
    },
    {
      "cell_type": "code",
      "source": [
        "#Se pide el ingreso del peso\n",
        "peso = int(input(\"Ingrese el peso (En kilogramos): \"))\n",
        "#Se pide el ingreso de la altura\n",
        "altura = int(input(\"Ingrese la altura (En centimetros): \"))\n",
        "#Imprime el IMC mediante la formula: peso dividido por la altura al cuadrado\n",
        "print(\"El IMC es: \", peso/altura**2)"
      ],
      "metadata": {
        "id": "FdhKeMHKIKvC",
        "outputId": "71b8c9a9-568d-41b5-84a3-d8a16aaac5f6",
        "colab": {
          "base_uri": "https://localhost:8080/"
        }
      },
      "execution_count": null,
      "outputs": [
        {
          "output_type": "stream",
          "name": "stdout",
          "text": [
            "Ingrese el peso (En kilogramos): 58\n",
            "Ingrese la altura (En centimetros): 165\n",
            "El IMC es:  0.002130394857667585\n"
          ]
        }
      ]
    }
  ]
}